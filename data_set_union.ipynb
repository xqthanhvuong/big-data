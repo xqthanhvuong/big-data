{
 "cells": [
  {
   "cell_type": "code",
   "execution_count": 1,
   "id": "3cc8cfee",
   "metadata": {},
   "outputs": [
    {
     "name": "stdout",
     "output_type": "stream",
     "text": [
      "+--------------------+--------------------+--------------------+--------------+--------------+----------+------+--------------------+--------------------+\n",
      "|           job_title|             company|        job_location|   search_city|search_country| job_level|branch|          job_skills| last_processed_time|\n",
      "+--------------------+--------------------+--------------------+--------------+--------------+----------+------+--------------------+--------------------+\n",
      "|Retail and Wholes...|            Pattern®|London Area, Unit...|Greater London|United Kingdom|Mid senior|  None|Account managemen...|2024-01-19 09:45:...|\n",
      "|   Building Finisher|               iHire|          Woburn, MA|        Nashua| United States|Mid senior|  None|Concrete Construc...|2024-01-21 05:24:...|\n",
      "| Industrial Engineer|Recruiting from S...|     Albuquerque, NM|   Albuquerque| United States|Mid senior|  None|Software Developm...|2024-01-19 09:45:...|\n",
      "|Health Informatio...|Goldendale School...|          Middle, IN|      Guilford| United States|Mid senior|  None|GEAR UP, Teacher ...|2024-01-19 21:31:...|\n",
      "|Medical Technolog...|TalentBurst, an I...|          Denver, CO|       Boulder| United States|Mid senior|  None|Histotechnologist...|2024-01-19 09:45:...|\n",
      "+--------------------+--------------------+--------------------+--------------+--------------+----------+------+--------------------+--------------------+\n",
      "only showing top 5 rows\n",
      "\n"
     ]
    }
   ],
   "source": [
    "from pyspark.sql import SparkSession\n",
    "from pyspark.sql.functions import lit\n",
    "\n",
    "# Tạo Spark session\n",
    "spark = SparkSession.builder.appName(\"JoinCSV\").getOrCreate()\n",
    "\n",
    "# Đọc file CSV 1\n",
    "df1 = spark.read.option(\"header\", \"true\").csv(\"./linkedin_job_postings_name_normalize.csv\")\n",
    "\n",
    "# Đọc file CSV 2\n",
    "df2 = spark.read.option(\"header\", \"true\").csv(\"./archive/job_skills.csv\")\n",
    "\n",
    "# Join theo cột job_link\n",
    "joined_df = df1.join(df2, on=\"job_link\", how=\"left\")\n",
    "\n",
    "# Thêm cột 'branch' với giá trị mặc định là \"None\"\n",
    "joined_df = joined_df.withColumn(\"branch\", lit(\"None\"))\n",
    "\n",
    "# Chọn các cột theo yêu cầu\n",
    "linkdin_df = joined_df.select(\n",
    "    \"job_title\",\n",
    "    \"company\",\n",
    "    \"job_location\",\n",
    "    \"search_city\",\n",
    "    \"search_country\",\n",
    "    \"job_level\",\n",
    "    \"branch\",\n",
    "    \"job_skills\",\n",
    "    \"last_processed_time\"\n",
    ")\n",
    "\n",
    "# (Tùy chọn) Hiển thị vài dòng đầu\n",
    "linkdin_df.show(5)"
   ]
  },
  {
   "cell_type": "code",
   "execution_count": 2,
   "id": "bc0bb333",
   "metadata": {},
   "outputs": [
    {
     "name": "stdout",
     "output_type": "stream",
     "text": [
      "+--------------------+--------------------+--------------------+--------------+--------------+----------+------+--------------------+--------------------+\n",
      "|           job_title|             company|        job_location|   search_city|search_country| job_level|branch|          job_skills| last_processed_time|\n",
      "+--------------------+--------------------+--------------------+--------------+--------------+----------+------+--------------------+--------------------+\n",
      "|Retail and Wholes...|            Pattern®|London Area, Unit...|Greater London|United Kingdom|Mid senior|  None|Account managemen...|2024-01-19 09:45:...|\n",
      "|   Building Finisher|               iHire|          Woburn, MA|        Nashua| United States|Mid senior|  None|Concrete Construc...|2024-01-21 05:24:...|\n",
      "| Industrial Engineer|Recruiting from S...|     Albuquerque, NM|   Albuquerque| United States|Mid senior|  None|Software Developm...|2024-01-19 09:45:...|\n",
      "|Health Informatio...|Goldendale School...|          Middle, IN|      Guilford| United States|Mid senior|  None|GEAR UP, Teacher ...|2024-01-19 21:31:...|\n",
      "|Medical Technolog...|TalentBurst, an I...|          Denver, CO|       Boulder| United States|Mid senior|  None|Histotechnologist...|2024-01-19 09:45:...|\n",
      "+--------------------+--------------------+--------------------+--------------+--------------+----------+------+--------------------+--------------------+\n",
      "only showing top 5 rows\n",
      "\n"
     ]
    }
   ],
   "source": [
    "from pyspark.sql import SparkSession\n",
    "\n",
    "spark = SparkSession.builder.appName(\"CombineCSV\").getOrCreate()\n",
    "\n",
    "# Đọc từng file riêng\n",
    "df2 = spark.read.option(\"header\", \"true\").csv(\"./analysis/skills_standard_output.csv\")\n",
    "\n",
    "# Gộp 2 DataFrame\n",
    "combined_df = linkdin_df.union(df2)\n",
    "\n",
    "# (Tùy chọn) Hiển thị vài dòng\n",
    "combined_df.show(5)\n",
    "combined_df = combined_df.repartition(30)\n",
    "\n",
    "combined_df.write.mode(\"overwrite\").option(\"header\", \"true\").csv(\"output/combined_csv_final.csv\")"
   ]
  },
  {
   "cell_type": "code",
   "execution_count": 3,
   "id": "f7ad9c55",
   "metadata": {},
   "outputs": [
    {
     "name": "stdout",
     "output_type": "stream",
     "text": [
      "1391804\n"
     ]
    }
   ],
   "source": [
    "print(combined_df.count())"
   ]
  },
  {
   "cell_type": "code",
   "execution_count": 4,
   "id": "23936365",
   "metadata": {},
   "outputs": [
    {
     "name": "stdout",
     "output_type": "stream",
     "text": [
      "114287\n"
     ]
    }
   ],
   "source": [
    "print(df2.count())"
   ]
  }
 ],
 "metadata": {
  "kernelspec": {
   "display_name": "Python 3",
   "language": "python",
   "name": "python3"
  },
  "language_info": {
   "codemirror_mode": {
    "name": "ipython",
    "version": 3
   },
   "file_extension": ".py",
   "mimetype": "text/x-python",
   "name": "python",
   "nbconvert_exporter": "python",
   "pygments_lexer": "ipython3",
   "version": "3.10.11"
  }
 },
 "nbformat": 4,
 "nbformat_minor": 5
}
