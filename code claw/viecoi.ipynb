{
 "cells": [
  {
   "cell_type": "code",
   "execution_count": 3,
   "metadata": {},
   "outputs": [],
   "source": [
    "import os\n",
    "import pandas as pd\n",
    "from datetime import datetime"
   ]
  },
  {
   "cell_type": "code",
   "execution_count": 4,
   "metadata": {},
   "outputs": [],
   "source": [
    "def merge_csv_files(input_folder, output_file):\n",
    "    all_files = [f for f in os.listdir(input_folder) if f.endswith('.csv')]\n",
    "    \n",
    "    df_list = []\n",
    "    for file in all_files:\n",
    "        file_path = os.path.join(input_folder, file)\n",
    "        df = pd.read_csv(file_path)\n",
    "        df_list.append(df)\n",
    "    \n",
    "    merged_df = pd.concat(df_list, ignore_index=True)\n",
    "    merged_df.to_csv(output_file, index=False)\n",
    "    \n",
    "    print(f'Merged file saved to {output_file}')\n",
    "    print(f'Total records: {len(merged_df)}')"
   ]
  },
  {
   "cell_type": "code",
   "execution_count": 5,
   "metadata": {},
   "outputs": [
    {
     "name": "stdout",
     "output_type": "stream",
     "text": [
      "Merged file saved to viecoi.csv\n",
      "Total records: 20082\n"
     ]
    }
   ],
   "source": [
    "merge_csv_files(\"viecoi\", \"viecoi.csv\")"
   ]
  }
 ],
 "metadata": {
  "kernelspec": {
   "display_name": "Python 3",
   "language": "python",
   "name": "python3"
  },
  "language_info": {
   "codemirror_mode": {
    "name": "ipython",
    "version": 3
   },
   "file_extension": ".py",
   "mimetype": "text/x-python",
   "name": "python",
   "nbconvert_exporter": "python",
   "pygments_lexer": "ipython3",
   "version": "3.10.11"
  }
 },
 "nbformat": 4,
 "nbformat_minor": 2
}
