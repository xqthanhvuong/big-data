{
 "cells": [
  {
   "cell_type": "code",
   "execution_count": 2,
   "metadata": {},
   "outputs": [],
   "source": [
    "import os\n",
    "import pandas as pd\n",
    "from datetime import datetime"
   ]
  },
  {
   "cell_type": "code",
   "execution_count": 11,
   "metadata": {},
   "outputs": [],
   "source": [
    "def merge_csv_files(folder_path: str, merged_filename: str):\n",
    "    \"\"\"\n",
    "    Nối tất cả các file CSV trong thư mục thành một file CSV duy nhất.\n",
    "\n",
    "    Args:\n",
    "        folder_path (str): Đường dẫn đến thư mục chứa các file CSV.\n",
    "        merged_filename (str): Tên file CSV sau khi ghép.\n",
    "\n",
    "    Returns:\n",
    "        str: Đường dẫn file CSV đã ghép hoặc None nếu lỗi.\n",
    "    \"\"\"\n",
    "    # Lấy danh sách file CSV\n",
    "    csv_files = [f for f in os.listdir(folder_path) if f.endswith('.csv')]\n",
    "\n",
    "    if not csv_files:\n",
    "        print(\"Không tìm thấy file CSV nào trong thư mục.\")\n",
    "        return None\n",
    "\n",
    "    df_list = []\n",
    "    for file in csv_files:\n",
    "        file_path = os.path.join(folder_path, file)\n",
    "        try:\n",
    "            # Đọc file với encoding phổ biến, bỏ lỗi dòng hỏng\n",
    "            df = pd.read_csv(file_path, encoding=\"utf-8\", on_bad_lines=\"skip\", low_memory=False)\n",
    "            df_list.append(df)\n",
    "        except Exception as e:\n",
    "            print(f\"Lỗi khi đọc file {file}: {e}\")\n",
    "\n",
    "    if not df_list:\n",
    "        print(\"Không có file nào hợp lệ để ghép.\")\n",
    "        return None\n",
    "\n",
    "    # Ghép tất cả DataFrame\n",
    "    merged_df = pd.concat(df_list, ignore_index=True)\n",
    "\n",
    "    # Lưu file CSV đã ghép\n",
    "    output_path = os.path.join(folder_path, merged_filename)\n",
    "    merged_df.to_csv(output_path, index=False, encoding=\"utf-8-sig\")\n",
    "\n",
    "    print(f\"Đã ghép tất cả các file CSV thành {output_path}\")\n",
    "    return output_path"
   ]
  },
  {
   "cell_type": "code",
   "execution_count": 12,
   "metadata": {},
   "outputs": [
    {
     "name": "stdout",
     "output_type": "stream",
     "text": [
      "Đã ghép tất cả các file CSV thành csv\\jobsgo.csv\n"
     ]
    },
    {
     "data": {
      "text/plain": [
       "'csv\\\\jobsgo.csv'"
      ]
     },
     "execution_count": 12,
     "metadata": {},
     "output_type": "execute_result"
    }
   ],
   "source": [
    "merge_csv_files(\"csv\", \"jobsgo.csv\")"
   ]
  },
  {
   "cell_type": "code",
   "execution_count": 13,
   "metadata": {},
   "outputs": [],
   "source": [
    "def clean_csv(input_file: str, output_file: str):\n",
    "    \"\"\"\n",
    "    Xóa các dòng có giá trị rỗng trong cột 'branch' hoặc 'job_skills' và lưu file mới.\n",
    "\n",
    "    Args:\n",
    "        input_file (str): Đường dẫn file CSV gốc.\n",
    "        output_file (str): Đường dẫn file CSV sau khi lọc.\n",
    "\n",
    "    Returns:\n",
    "        int: Số dòng còn lại sau khi lọc.\n",
    "    \"\"\"\n",
    "    # Đọc file CSV\n",
    "    df = pd.read_csv(input_file, encoding=\"utf-8\")\n",
    "\n",
    "    # Xóa dòng có giá trị rỗng trong cột 'branch' hoặc 'job_skills'\n",
    "    df_cleaned = df.dropna(subset=[\"branch\", \"job_skills\"])  # Loại bỏ NaN\n",
    "    df_cleaned = df_cleaned[(df_cleaned[\"branch\"].astype(str).str.strip() != \"\") & \n",
    "                            (df_cleaned[\"job_skills\"].astype(str).str.strip() != \"\")]  # Loại bỏ chuỗi rỗng\n",
    "\n",
    "    # Lưu file mới\n",
    "    df_cleaned.to_csv(output_file, index=False, encoding=\"utf-8-sig\")\n",
    "\n",
    "    # In ra số dòng còn lại\n",
    "    num_rows = len(df_cleaned)\n",
    "    print(f\"File sau khi lọc có {num_rows} dòng và đã lưu vào: {output_file}\")\n",
    "\n",
    "    return num_rows"
   ]
  },
  {
   "cell_type": "code",
   "execution_count": 14,
   "metadata": {},
   "outputs": [
    {
     "name": "stdout",
     "output_type": "stream",
     "text": [
      "File sau khi lọc có 23894 dòng và đã lưu vào: jobsgo.csv\n"
     ]
    },
    {
     "data": {
      "text/plain": [
       "23894"
      ]
     },
     "execution_count": 14,
     "metadata": {},
     "output_type": "execute_result"
    }
   ],
   "source": [
    "clean_csv(\"csv/jobsgo.csv\", \"jobsgo.csv\")"
   ]
  }
 ],
 "metadata": {
  "kernelspec": {
   "display_name": "Python 3",
   "language": "python",
   "name": "python3"
  },
  "language_info": {
   "codemirror_mode": {
    "name": "ipython",
    "version": 3
   },
   "file_extension": ".py",
   "mimetype": "text/x-python",
   "name": "python",
   "nbconvert_exporter": "python",
   "pygments_lexer": "ipython3",
   "version": "3.10.11"
  }
 },
 "nbformat": 4,
 "nbformat_minor": 2
}
