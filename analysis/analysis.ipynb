{
 "cells": [
  {
   "cell_type": "code",
   "execution_count": 4,
   "id": "5f7eb8d3",
   "metadata": {},
   "outputs": [
    {
     "name": "stdout",
     "output_type": "stream",
     "text": [
      "Số dòng có skills_standard rỗng: 280\n",
      "Tổng số dòng: 114462\n",
      "Tỷ lệ phần trăm dòng có skills_standard rỗng: 0.24%\n"
     ]
    }
   ],
   "source": [
    "import unicodedata\n",
    "from pyspark.sql import SparkSession\n",
    "from pyspark.sql.functions import col\n",
    "from pyspark.sql.types import StringType\n",
    "from pyspark.sql import functions as F\n",
    "import re\n",
    "\n",
    "def remove_diacritics(text):\n",
    "    # Chuẩn hóa Unicode và loại bỏ dấu\n",
    "    text = unicodedata.normalize('NFD', text)\n",
    "    text = ''.join(c for c in text if unicodedata.category(c) != 'Mn')\n",
    "    # Loại bỏ ký tự không phải chữ cái/số nếu cần\n",
    "    text = re.sub(r'[^\\w\\s]', '', text)\n",
    "    return text.lower()\n",
    "\n",
    "# Khởi tạo SparkSession\n",
    "spark = SparkSession.builder.master(\"local\").appName(\"Skills Standard\").getOrCreate()\n",
    "\n",
    "# Đọc dữ liệu từ file CSV\n",
    "file1 = spark.read.option(\"header\", \"true\").csv(\"./skills.csv\")\n",
    "file2 = spark.read.option(\"header\", \"true\").csv(\"./combined_output_no_url.csv\")\n",
    "\n",
    "# Chuẩn bị file1 với cột skill và standard\n",
    "file1 = file1.select(\"skill\", \"standard\")\n",
    "\n",
    "# Chuyển đổi skill thành dạng bảng với mỗi skill và standard\n",
    "file1 = file1.withColumn(\"skill\", F.lower(col(\"skill\")))\n",
    "\n",
    "# Broadcast file1 (để tránh lỗi về SparkContext)\n",
    "broadcast_file1 = spark.sparkContext.broadcast(file1.collect())\n",
    "\n",
    "# Hàm tạo ra trường skills_standard\n",
    "# Hàm tạo ra trường skills_standard với kiểm tra None hoặc rỗng\n",
    "def add_skills_standard(job_skills):\n",
    "    if job_skills is None or job_skills.strip() == \"\":  # Kiểm tra nếu job_skills là None hoặc rỗng\n",
    "        return \"None\"\n",
    "    \n",
    "    skills_list = job_skills.lower()\n",
    "    standard_list = []\n",
    "    \n",
    "    # Duyệt qua từng kỹ năng và tìm kiếm trong broadcast_file1\n",
    "    # for skill in skills_list:\n",
    "    #     skill = skill.strip().lower()\n",
    "        \n",
    "        # Tìm kiếm standard cho skill trong broadcast data\n",
    "    for row in broadcast_file1.value:\n",
    "        if row['skill'].lower() in skills_list:\n",
    "            standard_list.append(row['standard'])\n",
    "    my_set = set(standard_list)\n",
    "    return \",\".join(my_set)\n",
    "\n",
    "# Đăng ký hàm UDF (User Defined Function)\n",
    "add_skills_standard_udf = F.udf(add_skills_standard, StringType())\n",
    "\n",
    "# Thêm cột skills_standard vào file2\n",
    "file2 = file2.withColumn(\"skills_standard\", add_skills_standard_udf(col(\"job_skills\")))\n",
    "\n",
    "# Đếm số dòng có trường skills_standard rỗng hoặc null\n",
    "count_null_or_empty = file2.filter((col(\"skills_standard\").isNull()) | (col(\"skills_standard\") == \"\")).count()\n",
    "\n",
    "# Đếm tổng số dòng\n",
    "total_rows = file2.count()\n",
    "\n",
    "# Tính tỷ lệ phần trăm số dòng có skills_standard rỗng\n",
    "percentage_empty = (count_null_or_empty / total_rows) * 100\n",
    "\n",
    "# In kết quả\n",
    "print(f\"Số dòng có skills_standard rỗng: {count_null_or_empty}\")\n",
    "print(f\"Tổng số dòng: {total_rows}\")\n",
    "print(f\"Tỷ lệ phần trăm dòng có skills_standard rỗng: {percentage_empty:.2f}%\")\n",
    "# Số dòng có skills_standard rỗng: 3431\n",
    "# Tổng số dòng: 114462\n",
    "# Tỷ lệ phần trăm dòng có skills_standard rỗng: 3.00%\n"
   ]
  },
  {
   "cell_type": "code",
   "execution_count": null,
   "id": "9ca71bc8",
   "metadata": {},
   "outputs": [],
   "source": [
    "# # Lọc các dòng có skills_standard rỗng hoặc null\n",
    "df = file2.na.replace(\"\", \"None\", subset=[\"skills_standard\"])\n",
    "# empty_skills_standard_df = file2.filter((col(\"skills_standard\").isNull()) | (col(\"skills_standard\") == \"\"))\n",
    "\n",
    "# # Ghi ra file CSV mới\n",
    "df.write.option(\"header\", \"true\").csv(\"empty_skills_standard_output\")\n"
   ]
  },
  {
   "cell_type": "code",
   "execution_count": 13,
   "id": "b7152386",
   "metadata": {},
   "outputs": [
    {
     "data": {
      "text/plain": [
       "[Row(skills_standard='Management Skills,Training,Office,Planning,Budget Estimation,Project Management'),\n",
       " Row(skills_standard='Good health,Responsibility,Hardworking,Honesty,Attention to Detail,Business Skills'),\n",
       " Row(skills_standard='Veterinary,Persuasion,Sale,Honesty,Good Health,University Graduate,Business Skills,Communication Skills,Sales Skills'),\n",
       " Row(skills_standard='Independent Work,Responsibility,College Graduate,Progressive,Hardworking,Honesty,University Graduate,Civil Engineering,XD,Passion,HR'),\n",
       " Row(skills_standard='Persuasion,Enthusiastic Learner,Good-looking,Hardworking,Has Smartphone,Real Estate,Business Skills,Communication Skills,Sales Skills,None,Negotiation'),\n",
       " Row(skills_standard='College Graduate,Maintenace,Electromechanics,University Graduate,Construction'),\n",
       " Row(skills_standard='Misa,Secondary School Graduate'),\n",
       " Row(skills_standard='Teamwork,Good health,Responsibility,Management Skills,Supervision,Planning,Environmental,Problem Solving,Honesty,Attention to Detail,University Graduate,Construction,Communication Skills'),\n",
       " Row(skills_standard='Management Skills,Training,University Graduate,Business Skills,Civil Engineering,Financial Skills,HR'),\n",
       " Row(skills_standard='Management Skills,Good-looking,Hardworking,Sale,Proactive,Networking,Communication Skills,Negotiation'),\n",
       " Row(skills_standard='Responsibility,College Graduate,Secondary School Graduate,Early Childhood Education,Environmental,University Graduate,Scenario Handling,Communication Skills,Civil Engineering,Creativity'),\n",
       " Row(skills_standard='Teamwork,Google Ads,Responsibility,SEO,ERP,Environmental,Honesty,English,MS Office,Excel,Illustrator,Photoshop,Marketing,Korean'),\n",
       " Row(skills_standard='Dynamism,Negotiation,Persuasion,Training,Enthusiastic Learner,Real Estate,Business Skills,Communication Skills,Sales Skills,None,Financial Skills,Professional Demeanor'),\n",
       " Row(skills_standard='Presentation,Office,Media,Presentation Skills,Problem Solving,Law,English,University Graduate,Scenario Handling,Marketing,Business Skills,Communication Skills,Negotiation'),\n",
       " Row(skills_standard='Independent Work,Responsibility,College Graduate,Management Skills,Honesty,Attention to Detail,Excel,University Graduate,Misa,Accounting,Financial Skills'),\n",
       " Row(skills_standard='Training,Progressive,Hardworking,Business Skills,Communication Skills'),\n",
       " Row(skills_standard='Responsibility,Management Skills,Hardworking,Honesty,English,University Graduate,Business Skills,Communication Skills,Financial Skills,Logical Thinking'),\n",
       " Row(skills_standard='Civil Engineering,Honesty,Management Skills,Construction'),\n",
       " Row(skills_standard='Independent Work,Office,Excel,Marketing,Business Skills,Negotiation'),\n",
       " Row(skills_standard='Civil Engineering,University Graduate')]"
      ]
     },
     "execution_count": 13,
     "metadata": {},
     "output_type": "execute_result"
    }
   ],
   "source": [
    "\n",
    "df.select(\"skills_standard\").take(20)"
   ]
  },
  {
   "cell_type": "code",
   "execution_count": 15,
   "id": "9cfab40d",
   "metadata": {},
   "outputs": [
    {
     "name": "stdout",
     "output_type": "stream",
     "text": [
      "17562\n"
     ]
    }
   ],
   "source": [
    "none_skills_standard_df = df.filter((col(\"skills_standard\") == \"None\"))\n",
    "print(none_skills_standard_df.count())"
   ]
  },
  {
   "cell_type": "code",
   "execution_count": 16,
   "id": "5da5b0ac",
   "metadata": {},
   "outputs": [
    {
     "name": "stdout",
     "output_type": "stream",
     "text": [
      "0\n"
     ]
    }
   ],
   "source": [
    "blank_skills_standard_df = df.filter((col(\"skills_standard\") == \"\"))\n",
    "print(blank_skills_standard_df.count())"
   ]
  }
 ],
 "metadata": {
  "kernelspec": {
   "display_name": "Python 3",
   "language": "python",
   "name": "python3"
  },
  "language_info": {
   "codemirror_mode": {
    "name": "ipython",
    "version": 3
   },
   "file_extension": ".py",
   "mimetype": "text/x-python",
   "name": "python",
   "nbconvert_exporter": "python",
   "pygments_lexer": "ipython3",
   "version": "3.10.11"
  }
 },
 "nbformat": 4,
 "nbformat_minor": 5
}
