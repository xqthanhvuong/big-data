{
 "cells": [
  {
   "cell_type": "code",
   "execution_count": null,
   "id": "acacc1aa",
   "metadata": {},
   "outputs": [
    {
     "name": "stdout",
     "output_type": "stream",
     "text": [
      "Đã chia thành 6 phần tại: ooutput_split\n"
     ]
    }
   ],
   "source": [
    "import pandas as pd\n",
    "import os\n",
    "\n",
    "def split_csv(file_path, output_dir, num_parts=6):\n",
    "    # Đọc toàn bộ file CSV\n",
    "    df = pd.read_csv(file_path)\n",
    "    \n",
    "    # Tính số dòng mỗi phần\n",
    "    chunk_size = len(df) // num_parts\n",
    "    remainder = len(df) % num_parts\n",
    "\n",
    "    # Tạo thư mục output nếu chưa có\n",
    "    os.makedirs(output_dir, exist_ok=True)\n",
    "\n",
    "    start = 0\n",
    "    for i in range(num_parts):\n",
    "        # Thêm 1 dòng nếu còn dư\n",
    "        end = start + chunk_size + (1 if i < remainder else 0)\n",
    "        chunk = df.iloc[start:end]\n",
    "        chunk.to_csv(os.path.join(output_dir, f'part_{i+1}.csv'), index=False)\n",
    "        start = end\n",
    "\n",
    "    print(f'Đã chia thành {num_parts} phần tại: {output_dir}')\n",
    "\n",
    "# Ví dụ sử dụng\n",
    "split_csv('combined_output_no_url.csv', 'ooutput_split')\n"
   ]
  },
  {
   "cell_type": "code",
   "execution_count": 7,
   "id": "4580ccbc",
   "metadata": {},
   "outputs": [
    {
     "name": "stdout",
     "output_type": "stream",
     "text": [
      "Đã chia thành 30 phần tại: skill_split\n"
     ]
    }
   ],
   "source": [
    "import pandas as pd\n",
    "import os\n",
    "\n",
    "def split_csv(file_path, output_dir, num_parts=10):\n",
    "    # Đọc file CSV với các tham số phù hợp\n",
    "    df = pd.read_csv(file_path, \n",
    "                    sep=',', \n",
    "                    quotechar='\"', \n",
    "                    escapechar='\\\\',\n",
    "                    on_bad_lines='warn')  # hoặc 'skip' để bỏ qua dòng lỗi\n",
    "    \n",
    "    # Tính số dòng mỗi phần\n",
    "    chunk_size = len(df) // num_parts\n",
    "    \n",
    "    # Tạo thư mục đầu ra nếu chưa tồn tại\n",
    "    os.makedirs(output_dir, exist_ok=True)\n",
    "    \n",
    "    # Chia và lưu thành các file nhỏ\n",
    "    for i in range(num_parts):\n",
    "        start_idx = i * chunk_size\n",
    "        end_idx = (i + 1) * chunk_size if i < num_parts - 1 else len(df)\n",
    "        chunk = df.iloc[start_idx:end_idx]\n",
    "        chunk.to_csv(f'{output_dir}/part_{i+1}.csv', index=False)\n",
    "    \n",
    "    print(f'Đã chia thành {num_parts} phần tại: {output_dir}')\n",
    "\n",
    "# Ví dụ sử dụng\n",
    "split_csv('./output_skill.csv/part-00000-a7fc04c0-f637-468c-bf6f-6177f36742ee-c000.csv', 'skill_split', 30)\n",
    "\n"
   ]
  }
 ],
 "metadata": {
  "kernelspec": {
   "display_name": "Python 3",
   "language": "python",
   "name": "python3"
  },
  "language_info": {
   "codemirror_mode": {
    "name": "ipython",
    "version": 3
   },
   "file_extension": ".py",
   "mimetype": "text/x-python",
   "name": "python",
   "nbconvert_exporter": "python",
   "pygments_lexer": "ipython3",
   "version": "3.10.11"
  }
 },
 "nbformat": 4,
 "nbformat_minor": 5
}
