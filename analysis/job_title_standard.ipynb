{
 "cells": [
  {
   "cell_type": "code",
   "execution_count": 9,
   "id": "50a5b2f6",
   "metadata": {},
   "outputs": [
    {
     "name": "stdout",
     "output_type": "stream",
     "text": [
      "Số dòng trong file mới: 147\n"
     ]
    }
   ],
   "source": [
    "from pyspark.sql import SparkSession\n",
    "\n",
    "# Tạo Spark session\n",
    "spark = SparkSession.builder.appName(\"UniqueJobTitles\").getOrCreate()\n",
    "\n",
    "# Đọc file CSV (thay 'input.csv' bằng đường dẫn thực tế)\n",
    "df = spark.read.option(\"header\", \"true\").csv(\"../job_descriptions.csv\")\n",
    "\n",
    "# Giữ lại duy nhất cột job_title và loại bỏ giá trị trùng lặp\n",
    "job_titles_df = df.select(\"Job Title\").dropDuplicates()\n",
    "\n",
    "# Ghi ra file CSV mới (thư mục output)\n",
    "job_titles_df.coalesce(1).write.option(\"header\", \"true\").csv(\"job_titles_output.csv\")\n",
    "\n",
    "# Đếm số dòng\n",
    "count = job_titles_df.count()\n",
    "print(f\"Số dòng trong file mới: {count}\")\n"
   ]
  }
 ],
 "metadata": {
  "kernelspec": {
   "display_name": "Python 3",
   "language": "python",
   "name": "python3"
  },
  "language_info": {
   "codemirror_mode": {
    "name": "ipython",
    "version": 3
   },
   "file_extension": ".py",
   "mimetype": "text/x-python",
   "name": "python",
   "nbconvert_exporter": "python",
   "pygments_lexer": "ipython3",
   "version": "3.10.11"
  }
 },
 "nbformat": 4,
 "nbformat_minor": 5
}
