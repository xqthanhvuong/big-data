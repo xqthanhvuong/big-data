{
 "cells": [
  {
   "cell_type": "code",
   "execution_count": null,
   "id": "6e8eba4d",
   "metadata": {},
   "outputs": [],
   "source": [
    "from pyspark.sql import SparkSession\n",
    "from pyspark.sql.functions import udf\n",
    "from pyspark.sql.types import StringType\n",
    "from googletrans import Translator\n",
    "\n",
    "# Tạo Spark session\n",
    "spark = SparkSession.builder \\\n",
    "    .appName(\"TranslateJobTitle\") \\\n",
    "    .getOrCreate()\n",
    "\n",
    "# Đọc file CSV\n",
    "df = spark.read.option(\"header\", True).csv(\"combined_output_no_url.csv\")\n",
    "\n",
    "# Chia thành 20 partition\n",
    "df = df.repartition(20)\n",
    "\n",
    "# UDF dịch tiếng Việt -> tiếng Anh\n",
    "def translate_vi_to_en(text):\n",
    "    if text is None:\n",
    "        return \"\"\n",
    "    try:\n",
    "        translator = Translator()  # phải tạo bên trong để tránh lỗi pickle\n",
    "        return translator.translate(text, src='vi', dest='en').text\n",
    "    except Exception:\n",
    "        return text\n",
    "\n",
    "# Đăng ký UDF\n",
    "translate_udf = udf(translate_vi_to_en, StringType())\n",
    "\n",
    "# Áp dụng UDF để tạo cột mới\n",
    "df_translated = df.withColumn(\"job_title\", translate_udf(df[\"job_title\"]))\n",
    "\n",
    "# Ghi kết quả ra file mới\n",
    "df_translated.write.option(\"header\", True).csv(\"translated_job_titles_output\", mode=\"overwrite\")\n"
   ]
  },
  {
   "cell_type": "code",
   "execution_count": null,
   "id": "ed183dff",
   "metadata": {},
   "outputs": [],
   "source": [
    "import asyncio\n",
    "from pyspark.sql import SparkSession\n",
    "from pyspark.sql.functions import udf\n",
    "from pyspark.sql.types import StringType\n",
    "from googletrans import Translator\n",
    "\n",
    "def create_spark_session(app_name=\"TranslateJobTitle\"):\n",
    "    return SparkSession.builder.appName(app_name).getOrCreate()\n",
    "\n",
    "def translate_vi_to_en(text):\n",
    "    if text is None:\n",
    "        return \"\"\n",
    "    try:\n",
    "        translator = Translator()\n",
    "        return translator.translate(text, src='vi', dest='en').text\n",
    "    except Exception:\n",
    "        return text\n",
    "\n",
    "def register_translate_udf():\n",
    "    return udf(translate_vi_to_en, StringType())\n",
    "\n",
    "def run_translation_spark_job(input_csv: str, output_path: str):\n",
    "    spark = create_spark_session()\n",
    "\n",
    "    # Đọc và chia partition\n",
    "    df = spark.read.option(\"header\", True).csv(input_csv).repartition(20)\n",
    "\n",
    "    # Đăng ký UDF\n",
    "    translate_udf = register_translate_udf()\n",
    "\n",
    "    # Áp dụng UDF\n",
    "    df_translated = df.withColumn(\"job_title\", translate_udf(df[\"job_title\"]))\n",
    "\n",
    "    # Ghi ra file CSV\n",
    "    df_translated.write.option(\"header\", True).csv(output_path, mode=\"overwrite\")\n",
    "\n",
    "    spark.stop()"
   ]
  },
  {
   "cell_type": "code",
   "execution_count": null,
   "id": "fa49c479",
   "metadata": {},
   "outputs": [],
   "source": [
    "run_translation_spark_job(\"ooutput_split/part_1.csv\", \"translated_job_titles_output1\")"
   ]
  }
 ],
 "metadata": {
  "kernelspec": {
   "display_name": "Python 3",
   "language": "python",
   "name": "python3"
  },
  "language_info": {
   "codemirror_mode": {
    "name": "ipython",
    "version": 3
   },
   "file_extension": ".py",
   "mimetype": "text/x-python",
   "name": "python",
   "nbconvert_exporter": "python",
   "pygments_lexer": "ipython3",
   "version": "3.10.11"
  }
 },
 "nbformat": 4,
 "nbformat_minor": 5
}
